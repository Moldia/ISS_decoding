{
 "cells": [
  {
   "cell_type": "code",
   "execution_count": 3,
   "metadata": {},
   "outputs": [
    {
     "ename": "ModuleNotFoundError",
     "evalue": "No module named 'starfish'",
     "output_type": "error",
     "traceback": [
      "\u001b[1;31m---------------------------------------------------------------------------\u001b[0m",
      "\u001b[1;31mModuleNotFoundError\u001b[0m                       Traceback (most recent call last)",
      "\u001b[1;32m<ipython-input-3-0b42170d703b>\u001b[0m in \u001b[0;36m<module>\u001b[1;34m\u001b[0m\n\u001b[1;32m----> 1\u001b[1;33m \u001b[1;32mimport\u001b[0m \u001b[0mISS_decoding\u001b[0m\u001b[1;33m.\u001b[0m\u001b[0mSpaceTx_format\u001b[0m \u001b[1;32mas\u001b[0m \u001b[0mSTX\u001b[0m\u001b[1;33m\u001b[0m\u001b[1;33m\u001b[0m\u001b[0m\n\u001b[0m\u001b[0;32m      2\u001b[0m \u001b[1;32mimport\u001b[0m \u001b[0mISS_decoding\u001b[0m\u001b[1;33m.\u001b[0m\u001b[0mdecoding\u001b[0m \u001b[1;32mas\u001b[0m \u001b[0mDEC\u001b[0m\u001b[1;33m\u001b[0m\u001b[1;33m\u001b[0m\u001b[0m\n\u001b[0;32m      3\u001b[0m \u001b[1;32mimport\u001b[0m \u001b[0mISS_decoding\u001b[0m\u001b[1;33m.\u001b[0m\u001b[0mqc_metrics\u001b[0m \u001b[1;32mas\u001b[0m \u001b[0mQC\u001b[0m\u001b[1;33m\u001b[0m\u001b[1;33m\u001b[0m\u001b[0m\n\u001b[0;32m      4\u001b[0m \u001b[1;32mimport\u001b[0m \u001b[0mpandas\u001b[0m \u001b[1;32mas\u001b[0m \u001b[0mpd\u001b[0m\u001b[1;33m\u001b[0m\u001b[1;33m\u001b[0m\u001b[0m\n",
      "\u001b[1;32m~\\Desktop\\github_repos\\ISS_decoding\\ISS_decoding\\__init__.py\u001b[0m in \u001b[0;36m<module>\u001b[1;34m\u001b[0m\n\u001b[1;32m----> 1\u001b[1;33m \u001b[1;32mfrom\u001b[0m \u001b[0mISS_decoding\u001b[0m\u001b[1;33m.\u001b[0m\u001b[0mSpaceTx_format\u001b[0m \u001b[1;32mimport\u001b[0m \u001b[1;33m(\u001b[0m\u001b[0madd_codebook\u001b[0m\u001b[1;33m,\u001b[0m \u001b[0mmake_codebook_json\u001b[0m\u001b[1;33m,\u001b[0m \u001b[0mmake_spacetx_format_zen\u001b[0m\u001b[1;33m)\u001b[0m\u001b[1;33m\u001b[0m\u001b[1;33m\u001b[0m\u001b[0m\n\u001b[0m\u001b[0;32m      2\u001b[0m \u001b[1;33m\u001b[0m\u001b[0m\n\u001b[0;32m      3\u001b[0m \u001b[1;32mfrom\u001b[0m \u001b[0mISS_decoding\u001b[0m\u001b[1;33m.\u001b[0m\u001b[0mdecoding\u001b[0m \u001b[1;32mimport\u001b[0m \u001b[1;33m(\u001b[0m\u001b[0mISS_pipeline\u001b[0m\u001b[1;33m,\u001b[0m \u001b[0mprocess_experiment\u001b[0m\u001b[1;33m,\u001b[0m \u001b[0mQC_score_calc\u001b[0m\u001b[1;33m,\u001b[0m \u001b[0mconcatenate_starfish_output\u001b[0m\u001b[1;33m,\u001b[0m \u001b[0mplot_starfish_output\u001b[0m\u001b[1;33m)\u001b[0m\u001b[1;33m\u001b[0m\u001b[1;33m\u001b[0m\u001b[0m\n\u001b[0;32m      4\u001b[0m \u001b[1;33m\u001b[0m\u001b[0m\n",
      "\u001b[1;32m~\\Desktop\\github_repos\\ISS_decoding\\ISS_decoding\\SpaceTx_format.py\u001b[0m in \u001b[0;36m<module>\u001b[1;34m\u001b[0m\n\u001b[0;32m      3\u001b[0m \u001b[1;32mfrom\u001b[0m \u001b[0mtyping\u001b[0m \u001b[1;32mimport\u001b[0m \u001b[0mMapping\u001b[0m\u001b[1;33m,\u001b[0m \u001b[0mTuple\u001b[0m\u001b[1;33m,\u001b[0m \u001b[0mUnion\u001b[0m\u001b[1;33m\u001b[0m\u001b[1;33m\u001b[0m\u001b[0m\n\u001b[0;32m      4\u001b[0m \u001b[1;32mimport\u001b[0m \u001b[0mnumpy\u001b[0m \u001b[1;32mas\u001b[0m \u001b[0mnp\u001b[0m\u001b[1;33m\u001b[0m\u001b[1;33m\u001b[0m\u001b[0m\n\u001b[1;32m----> 5\u001b[1;33m \u001b[1;32mfrom\u001b[0m \u001b[0mstarfish\u001b[0m\u001b[1;33m.\u001b[0m\u001b[0mtypes\u001b[0m \u001b[1;32mimport\u001b[0m \u001b[0mAxes\u001b[0m\u001b[1;33m,\u001b[0m \u001b[0mCoordinates\u001b[0m\u001b[1;33m,\u001b[0m \u001b[0mFeatures\u001b[0m\u001b[1;33m,\u001b[0m \u001b[0mNumber\u001b[0m\u001b[1;33m\u001b[0m\u001b[1;33m\u001b[0m\u001b[0m\n\u001b[0m\u001b[0;32m      6\u001b[0m \u001b[1;32mfrom\u001b[0m \u001b[0mstarfish\u001b[0m \u001b[1;32mimport\u001b[0m \u001b[0mCodebook\u001b[0m\u001b[1;33m\u001b[0m\u001b[1;33m\u001b[0m\u001b[0m\n\u001b[0;32m      7\u001b[0m \u001b[1;32mfrom\u001b[0m \u001b[0mstarfish\u001b[0m\u001b[1;33m.\u001b[0m\u001b[0mexperiment\u001b[0m\u001b[1;33m.\u001b[0m\u001b[0mbuilder\u001b[0m \u001b[1;32mimport\u001b[0m \u001b[0mFetchedTile\u001b[0m\u001b[1;33m,\u001b[0m \u001b[0mTileFetcher\u001b[0m\u001b[1;33m\u001b[0m\u001b[1;33m\u001b[0m\u001b[0m\n",
      "\u001b[1;31mModuleNotFoundError\u001b[0m: No module named 'starfish'"
     ]
    }
   ],
   "source": [
    "import ISS_decoding.SpaceTx_format as STX\n",
    "import ISS_decoding.decoding as DEC\n",
    "import ISS_decoding.qc_metrics as QC\n",
    "import pandas as pd"
   ]
  },
  {
   "cell_type": "markdown",
   "metadata": {},
   "source": [
    "# Specify the path where your sections are saved"
   ]
  },
  {
   "cell_type": "code",
   "execution_count": null,
   "metadata": {},
   "outputs": [],
   "source": [
    "sample = '/media/external/eae_processing/batch_3/R3_B_BOTH_PEAK/'\n"
   ]
  },
  {
   "cell_type": "markdown",
   "metadata": {},
   "source": [
    "# Format the data in SpaceTx format"
   ]
  },
  {
   "cell_type": "markdown",
   "metadata": {},
   "source": [
    "The first thing that we need to do before we can start the actual decoding is to conform our images (the resliced tiles) to SpaceTx compatible data, also known as the SpaceTx format. To read more about the SpaceTx format, read the following: GitHub - spacetx/sptx-format: Image data format specification for spaceTx. \n"
   ]
  },
  {
   "cell_type": "code",
   "execution_count": 5,
   "metadata": {},
   "outputs": [
    {
     "ename": "NameError",
     "evalue": "name 'STX' is not defined",
     "output_type": "error",
     "traceback": [
      "\u001b[1;31m---------------------------------------------------------------------------\u001b[0m",
      "\u001b[1;31mNameError\u001b[0m                                 Traceback (most recent call last)",
      "\u001b[1;32m<ipython-input-5-0793932c4e97>\u001b[0m in \u001b[0;36m<module>\u001b[1;34m\u001b[0m\n\u001b[1;32m----> 1\u001b[1;33m STX.make_spacetx_format(path = sample,\n\u001b[0m\u001b[0;32m      2\u001b[0m \u001b[0mcodebook_csv\u001b[0m \u001b[1;33m=\u001b[0m \u001b[1;34m'/home/cml/Downloads/codebook_no_Plp1.csv'\u001b[0m\u001b[1;33m,\u001b[0m\u001b[1;33m\u001b[0m\u001b[1;33m\u001b[0m\u001b[0m\n\u001b[0;32m      3\u001b[0m filenames=['Base_1_stitched', 'Base_2_stitched', \n\u001b[0;32m      4\u001b[0m            \u001b[1;34m'Base_3_stitched'\u001b[0m\u001b[1;33m,\u001b[0m \u001b[1;34m'Base_4_stitched'\u001b[0m\u001b[1;33m,\u001b[0m\u001b[1;33m\u001b[0m\u001b[1;33m\u001b[0m\u001b[0m\n\u001b[0;32m      5\u001b[0m            'Base_5_stitched','Base_6_stitched'],\n",
      "\u001b[1;31mNameError\u001b[0m: name 'STX' is not defined"
     ]
    }
   ],
   "source": [
    "STX.make_spacetx_format(path = sample,\n",
    "codebook_csv = '/home/cml/Downloads/codebook_no_Plp1.csv',\n",
    "filenames=['Base_1_stitched', 'Base_2_stitched', \n",
    "           'Base_3_stitched', 'Base_4_stitched', \n",
    "           'Base_5_stitched','Base_6_stitched'],\n",
    "tile_dim=2000,\n",
    "pixelscale=0.1625,\n",
    "channels=[\"AF750\", \"Cy5\", \"Cy3\", \"AF488\", \"DAPI\"],\n",
    "DO_decorators=[\"AF750\", \"Cy5\", \"Cy3\", \"AF488\"],\n",
    "folder_spacetx='SpaceTX_format',\n",
    "nuclei_channel=5,\n",
    ")"
   ]
  },
  {
   "cell_type": "markdown",
   "metadata": {},
   "source": [
    "The process_experiment  function is run in order to decode the ISS experiment. The function will take every individual tile formatted in the SpaceTx format, detect every spot and assign to it the most probable code. Finally, the function will extract the XY position and identity of every spot that has been decoded in the tile"
   ]
  },
  {
   "cell_type": "code",
   "execution_count": null,
   "metadata": {},
   "outputs": [],
   "source": [
    "DEC.process_experiment(exp_path = sample+'/SpaceTX_format/experiment.json', \n",
    "output = sample+'/starfish_output_quality_scores_spots_alignment_new/', \n",
    "register = True,\n",
    "register_dapi = False,\n",
    "masking_radius = 15, \n",
    "threshold = 0.002, \n",
    "sigma_vals = [1, 10, 30], # min, max and number\n",
    "decode_mode = 'PRMC',\n",
    "normalization_method = 'MH' # or MD\n",
    "                      )"
   ]
  },
  {
   "cell_type": "markdown",
   "metadata": {},
   "source": [
    "# Put all the fovs together"
   ]
  },
  {
   "cell_type": "markdown",
   "metadata": {},
   "source": [
    "As we mentioned previously, every single tile is decoded independently. For this reason, the last step when decoding is to concatenate all the csv’s from individual tiles . For this, we use the following function.\n"
   ]
  },
  {
   "cell_type": "code",
   "execution_count": null,
   "metadata": {},
   "outputs": [],
   "source": [
    "concatenate_starfish_output(path=sample+'/starfish_output_quality_scores_spots_alignment_new/',\n",
    "                            outpath=sample+'/starfish_output_quality_scores_spots_alignment_new/'tag='decoding1')"
   ]
  },
  {
   "cell_type": "markdown",
   "metadata": {},
   "source": [
    "# Read csv's"
   ]
  },
  {
   "cell_type": "markdown",
   "metadata": {},
   "source": [
    "After decoding, we read the csv containing the spots"
   ]
  },
  {
   "cell_type": "code",
   "execution_count": null,
   "metadata": {},
   "outputs": [],
   "source": [
    "reads=pd.read_csv('')"
   ]
  },
  {
   "cell_type": "markdown",
   "metadata": {},
   "source": [
    "# Filter reads"
   ]
  },
  {
   "cell_type": "code",
   "execution_count": null,
   "metadata": {},
   "outputs": [],
   "source": [
    "QC.reads_filt=filter_reads(reads,min_quality_mean=0.2)"
   ]
  },
  {
   "cell_type": "markdown",
   "metadata": {},
   "source": [
    "# Plot expression"
   ]
  },
  {
   "cell_type": "code",
   "execution_count": null,
   "metadata": {},
   "outputs": [],
   "source": [
    "Plot the gene expression decoded of your tissue. Parameters xcolumn and y column define the XY positions of your spots. Key is the column containing the gene identity of your spots. By changing 'genes'"
   ]
  },
  {
   "cell_type": "code",
   "execution_count": null,
   "metadata": {},
   "outputs": [],
   "source": [
    "QC.plot_expression(reads,key='target',colorcode=['red'],xcolumn='xc',ycolumn='yc',genes='individual',size=8,background='black',title_color='white',figuresize=(10,10),save=None,format='pdf')"
   ]
  },
  {
   "cell_type": "markdown",
   "metadata": {},
   "source": [
    "# Quality metrics"
   ]
  },
  {
   "cell_type": "markdown",
   "metadata": {},
   "source": [
    "There are several functions that allow you to explore how good your data is. In this section we describe the main functionalities that can be used to explore the quality of our dataset:\n"
   ]
  },
  {
   "cell_type": "code",
   "execution_count": null,
   "metadata": {},
   "outputs": [],
   "source": [
    "QC.quality_per_cycle(reads,cycles=6)"
   ]
  },
  {
   "cell_type": "markdown",
   "metadata": {},
   "source": [
    "quality_per_gene: this function is designed to evaluate the quality of the reads assigned to each gene. Since every gene has an associated barcode with a specific sequence of colors across cycles, we might have a big quality bias between different genes just because of the barcode composition"
   ]
  },
  {
   "cell_type": "code",
   "execution_count": null,
   "metadata": {},
   "outputs": [],
   "source": [
    "QC.quality_per_gene(reads,on='qcscore_mean',gene_name='target')"
   ]
  },
  {
   "cell_type": "markdown",
   "metadata": {},
   "source": [
    "quality_per_base: represents as a violin plot the qualities obtained for the decoded spots on each base"
   ]
  },
  {
   "cell_type": "code",
   "execution_count": null,
   "metadata": {},
   "outputs": [],
   "source": [
    "QC.plot_frequencies(reads,on='target')"
   ]
  },
  {
   "cell_type": "markdown",
   "metadata": {},
   "source": [
    "Compare_scores: this function is used to plot more than one quality score at the same time. It represents the same as plot_scores, but for 2 quality metrics. It can facilitate the interpretation of how some metrics change"
   ]
  },
  {
   "cell_type": "code",
   "execution_count": null,
   "metadata": {},
   "outputs": [],
   "source": [
    "QC.compare_scores(reads,score1='quality_mean',score2='quality_minimum',hue='assigned',kind='hist',color='#3266a8')"
   ]
  },
  {
   "cell_type": "markdown",
   "metadata": {},
   "source": [
    "Plot_scores: allows us to plot in the form of a histogram any quality parameter that we might have in our dataset. If decoding using “PRMC”, where NaNs are detected, we can also plot the number of NaNs (non assigned) vs TRUE (assigned) reads against one of our quality scores. "
   ]
  },
  {
   "cell_type": "code",
   "execution_count": null,
   "metadata": {},
   "outputs": [],
   "source": [
    "QC.plot_scores(reads,on='quality_mean',hue='assigned',log_scale=False) "
   ]
  }
 ],
 "metadata": {
  "kernelspec": {
   "display_name": "scanpy",
   "language": "python",
   "name": "scanpy"
  },
  "language_info": {
   "codemirror_mode": {
    "name": "ipython",
    "version": 3
   },
   "file_extension": ".py",
   "mimetype": "text/x-python",
   "name": "python",
   "nbconvert_exporter": "python",
   "pygments_lexer": "ipython3",
   "version": "3.8.5"
  }
 },
 "nbformat": 4,
 "nbformat_minor": 4
}
