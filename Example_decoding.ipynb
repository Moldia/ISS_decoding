{
 "cells": [
  {
   "cell_type": "code",
   "execution_count": null,
   "metadata": {},
   "outputs": [],
   "source": [
    "import ISS_decoding.SpaceTx_format as STX\n",
    "import ISS_decoding.decoding as DEC\n",
    "import ISS_decoding."
   ]
  },
  {
   "cell_type": "markdown",
   "metadata": {},
   "source": [
    "# Specify the path where your sections are saved"
   ]
  },
  {
   "cell_type": "code",
   "execution_count": null,
   "metadata": {},
   "outputs": [],
   "source": [
    "samples = [\n",
    "    '/media/external/eae_processing/batch_3/R3_B_BOTH_PEAK/',\n",
    "]\n"
   ]
  },
  {
   "cell_type": "code",
   "execution_count": null,
   "metadata": {},
   "outputs": [],
   "source": [
    "\n",
    "for sample in samples:\n",
    "    print(sample)\n",
    "    try: \n",
    "        DEC.process_experiment(exp_path = sample+'/SpaceTX_format/experiment.json', \n",
    "                                    output = sample+'/starfish_output_220525_aligned_spots_MetricDistance/', \n",
    "                                    register = True,\n",
    "                                    register_dapi = False,\n",
    "                                    masking_radius = 15, \n",
    "                                    threshold = 0.002, \n",
    "                                    sigma_vals = [1, 10, 30], # min, max and number\n",
    "                                    decode_mode = 'MD',\n",
    "                                    normalization_method = 'MH' # or MD\n",
    "                            )\n",
    "    except: \n",
    "        DEC.process_experiment(exp_path = sample+'/SpaceTX_format_6000/experiment.json', \n",
    "                                    output = sample+'/starfish_output_220525_aligned_spots_MetricDistance/', \n",
    "                                    register = True,\n",
    "                                    register_dapi = False,\n",
    "                                    masking_radius = 15, \n",
    "                                    threshold = 0.002, \n",
    "                                    sigma_vals = [1, 10, 30], # min, max and number\n",
    "                                    decode_mode = 'MD',\n",
    "                                    normalization_method = 'MH' # or MD)"
   ]
  },
  {
   "cell_type": "markdown",
   "metadata": {},
   "source": [
    "# Put all the "
   ]
  },
  {
   "cell_type": "code",
   "execution_count": null,
   "metadata": {},
   "outputs": [],
   "source": []
  }
 ],
 "metadata": {
  "kernelspec": {
   "display_name": "scanpy",
   "language": "python",
   "name": "scanpy"
  },
  "language_info": {
   "codemirror_mode": {
    "name": "ipython",
    "version": 3
   },
   "file_extension": ".py",
   "mimetype": "text/x-python",
   "name": "python",
   "nbconvert_exporter": "python",
   "pygments_lexer": "ipython3",
   "version": "3.8.5"
  }
 },
 "nbformat": 4,
 "nbformat_minor": 4
}
